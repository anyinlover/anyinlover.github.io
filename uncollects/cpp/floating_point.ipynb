{
 "cells": [
  {
   "cell_type": "code",
   "execution_count": null,
   "metadata": {},
   "outputs": [],
   "source": [
    "import struct\n",
    "def float_to_fe(f):\n",
    "    packed = struct.pack('>f', f)\n",
    "    int_val = struct.unpack('>I', packed)[0]\n",
    "    sign = (int_val >> 31) & 1\n",
    "    exponent = (int_val >> 23) & 0xFF\n",
    "    mantissa = int_val & 0x7FFFFF\n",
    "\n",
    "    if exponent == 0xFF:  # Infinity or NaN\n",
    "        if mantissa == 0:\n",
    "            return \"Infinity\" if sign == 0 else \"-Infinity\"\n",
    "        else:\n",
    "            return \"NaN\"\n",
    "\n",
    "    if exponent == 0:\n",
    "        e = -126\n",
    "        mantissa_binary = f\"0.{mantissa:023b}\" #denormalized\n",
    "    else:\n",
    "        e = exponent - 127\n",
    "        mantissa_binary = f\"1.{mantissa:023b}\" #normalized\n",
    "\n",
    "    if sign == 1:\n",
    "        mantissa_binary = \"-\" + mantissa_binary\n",
    "\n",
    "    return f\"{mantissa_binary} x 2^{e}\""
   ]
  },
  {
   "cell_type": "code",
   "execution_count": 10,
   "metadata": {},
   "outputs": [
    {
     "data": {
      "text/plain": [
       "'1.10010001111010111000011 x 2^1'"
      ]
     },
     "execution_count": 10,
     "metadata": {},
     "output_type": "execute_result"
    }
   ],
   "source": [
    "float_to_fe(3.14)"
   ]
  },
  {
   "cell_type": "code",
   "execution_count": 11,
   "metadata": {},
   "outputs": [
    {
     "data": {
      "text/plain": [
       "'1.00101010000001011111001 x 2^33'"
      ]
     },
     "execution_count": 11,
     "metadata": {},
     "output_type": "execute_result"
    }
   ],
   "source": [
    "float_to_fe(1e10)"
   ]
  },
  {
   "cell_type": "code",
   "execution_count": 13,
   "metadata": {},
   "outputs": [],
   "source": [
    "import numpy as np"
   ]
  },
  {
   "cell_type": "code",
   "execution_count": 14,
   "metadata": {},
   "outputs": [
    {
     "data": {
      "text/plain": [
       "np.float32(0.0)"
      ]
     },
     "execution_count": 14,
     "metadata": {},
     "output_type": "execute_result"
    }
   ],
   "source": [
    "np.float32(3.14)+np.float32(1e10)-np.float32(1e10)"
   ]
  },
  {
   "cell_type": "code",
   "execution_count": null,
   "metadata": {},
   "outputs": [],
   "source": []
  }
 ],
 "metadata": {
  "kernelspec": {
   "display_name": ".venv",
   "language": "python",
   "name": "python3"
  },
  "language_info": {
   "codemirror_mode": {
    "name": "ipython",
    "version": 3
   },
   "file_extension": ".py",
   "mimetype": "text/x-python",
   "name": "python",
   "nbconvert_exporter": "python",
   "pygments_lexer": "ipython3",
   "version": "3.12.3"
  }
 },
 "nbformat": 4,
 "nbformat_minor": 2
}
