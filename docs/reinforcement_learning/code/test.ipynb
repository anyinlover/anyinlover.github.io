{
 "cells": [
  {
   "cell_type": "code",
   "execution_count": 2,
   "id": "94e6bb6e",
   "metadata": {},
   "outputs": [],
   "source": [
    "from torchrl.envs import GymEnv"
   ]
  },
  {
   "cell_type": "code",
   "execution_count": 3,
   "id": "beb5c210",
   "metadata": {},
   "outputs": [],
   "source": [
    "env = GymEnv(\"Pendulum-v1\")"
   ]
  },
  {
   "cell_type": "code",
   "execution_count": 4,
   "id": "aa974bfc",
   "metadata": {},
   "outputs": [
    {
     "data": {
      "text/plain": [
       "TensorDict(\n",
       "    fields={\n",
       "        done: Tensor(shape=torch.Size([1]), device=cpu, dtype=torch.bool, is_shared=False),\n",
       "        observation: Tensor(shape=torch.Size([3]), device=cpu, dtype=torch.float32, is_shared=False),\n",
       "        terminated: Tensor(shape=torch.Size([1]), device=cpu, dtype=torch.bool, is_shared=False),\n",
       "        truncated: Tensor(shape=torch.Size([1]), device=cpu, dtype=torch.bool, is_shared=False)},\n",
       "    batch_size=torch.Size([]),\n",
       "    device=None,\n",
       "    is_shared=False)"
      ]
     },
     "execution_count": 4,
     "metadata": {},
     "output_type": "execute_result"
    }
   ],
   "source": [
    "reset = env.reset()\n",
    "reset"
   ]
  },
  {
   "cell_type": "code",
   "execution_count": 6,
   "id": "1a6b8ef6",
   "metadata": {},
   "outputs": [
    {
     "data": {
      "text/plain": [
       "TensorDict(\n",
       "    fields={\n",
       "        action: Tensor(shape=torch.Size([1]), device=cpu, dtype=torch.float32, is_shared=False),\n",
       "        done: Tensor(shape=torch.Size([1]), device=cpu, dtype=torch.bool, is_shared=False),\n",
       "        observation: Tensor(shape=torch.Size([3]), device=cpu, dtype=torch.float32, is_shared=False),\n",
       "        terminated: Tensor(shape=torch.Size([1]), device=cpu, dtype=torch.bool, is_shared=False),\n",
       "        truncated: Tensor(shape=torch.Size([1]), device=cpu, dtype=torch.bool, is_shared=False)},\n",
       "    batch_size=torch.Size([]),\n",
       "    device=None,\n",
       "    is_shared=False)"
      ]
     },
     "execution_count": 6,
     "metadata": {},
     "output_type": "execute_result"
    }
   ],
   "source": [
    "reset_with_action = env.rand_action(reset)\n",
    "reset_with_action"
   ]
  },
  {
   "cell_type": "code",
   "execution_count": 7,
   "id": "65ff51e9",
   "metadata": {},
   "outputs": [],
   "source": [
    "from enum import IntEnum\n",
    "\n",
    "\n",
    "class ACTIONS(IntEnum):\n",
    "    NORTH = 0\n",
    "    SOUTH = 1\n",
    "    EAST = 2\n",
    "    WEST = 3"
   ]
  },
  {
   "cell_type": "code",
   "execution_count": 8,
   "id": "fc0818d2",
   "metadata": {},
   "outputs": [
    {
     "data": {
      "text/plain": [
       "<ACTIONS.SOUTH: 1>"
      ]
     },
     "execution_count": 8,
     "metadata": {},
     "output_type": "execute_result"
    }
   ],
   "source": [
    "ACTIONS(1)"
   ]
  },
  {
   "cell_type": "code",
   "execution_count": 1,
   "id": "e1dafbc4",
   "metadata": {},
   "outputs": [],
   "source": [
    "from grid_world_env import GridWorldEnv"
   ]
  },
  {
   "cell_type": "code",
   "execution_count": 3,
   "id": "04236f39",
   "metadata": {},
   "outputs": [
    {
     "ename": "TypeError",
     "evalue": "'int' object is not iterable",
     "output_type": "error",
     "traceback": [
      "\u001b[31m---------------------------------------------------------------------------\u001b[39m",
      "\u001b[31mTypeError\u001b[39m                                 Traceback (most recent call last)",
      "\u001b[36mCell\u001b[39m\u001b[36m \u001b[39m\u001b[32mIn[3]\u001b[39m\u001b[32m, line 1\u001b[39m\n\u001b[32m----> \u001b[39m\u001b[32m1\u001b[39m env = \u001b[43mGridWorldEnv\u001b[49m\u001b[43m(\u001b[49m\u001b[43mdevice\u001b[49m\u001b[43m=\u001b[49m\u001b[33;43m\"\u001b[39;49m\u001b[33;43mcpu\u001b[39;49m\u001b[33;43m\"\u001b[39;49m\u001b[43m,\u001b[49m\u001b[43m \u001b[49m\u001b[43mbatch_size\u001b[49m\u001b[43m=\u001b[49m\u001b[32;43m1\u001b[39;49m\u001b[43m)\u001b[49m\n",
      "\u001b[36mFile \u001b[39m\u001b[32m~/Codes/Personal/myblog/docs/reinforcement_learning/code/.venv/lib/python3.13/site-packages/torchrl/envs/common.py:260\u001b[39m, in \u001b[36m_EnvPostInit.__call__\u001b[39m\u001b[34m(cls, *args, **kwargs)\u001b[39m\n\u001b[32m    258\u001b[39m auto_reset = kwargs.pop(\u001b[33m\"\u001b[39m\u001b[33mauto_reset\u001b[39m\u001b[33m\"\u001b[39m, \u001b[38;5;28;01mFalse\u001b[39;00m)\n\u001b[32m    259\u001b[39m auto_reset_replace = kwargs.pop(\u001b[33m\"\u001b[39m\u001b[33mauto_reset_replace\u001b[39m\u001b[33m\"\u001b[39m, \u001b[38;5;28;01mTrue\u001b[39;00m)\n\u001b[32m--> \u001b[39m\u001b[32m260\u001b[39m instance: EnvBase = \u001b[38;5;28;43msuper\u001b[39;49m\u001b[43m(\u001b[49m\u001b[43m)\u001b[49m\u001b[43m.\u001b[49m\u001b[34;43m__call__\u001b[39;49m\u001b[43m(\u001b[49m\u001b[43m*\u001b[49m\u001b[43margs\u001b[49m\u001b[43m,\u001b[49m\u001b[43m \u001b[49m\u001b[43m*\u001b[49m\u001b[43m*\u001b[49m\u001b[43mkwargs\u001b[49m\u001b[43m)\u001b[49m\n\u001b[32m    261\u001b[39m \u001b[38;5;28;01mif\u001b[39;00m \u001b[33m\"\u001b[39m\u001b[33m_cache\u001b[39m\u001b[33m\"\u001b[39m \u001b[38;5;129;01mnot\u001b[39;00m \u001b[38;5;129;01min\u001b[39;00m instance.\u001b[34m__dict__\u001b[39m:\n\u001b[32m    262\u001b[39m     instance._cache = {}\n",
      "\u001b[36mFile \u001b[39m\u001b[32m~/Codes/Personal/myblog/docs/reinforcement_learning/code/grid_world_env.py:12\u001b[39m, in \u001b[36mGridWorldEnv.__init__\u001b[39m\u001b[34m(self, device, batch_size, seed)\u001b[39m\n\u001b[32m     11\u001b[39m \u001b[38;5;28;01mdef\u001b[39;00m\u001b[38;5;250m \u001b[39m\u001b[34m__init__\u001b[39m(\u001b[38;5;28mself\u001b[39m, device=\u001b[33m\"\u001b[39m\u001b[33mcpu\u001b[39m\u001b[33m\"\u001b[39m, batch_size=\u001b[38;5;28;01mNone\u001b[39;00m, seed=\u001b[38;5;28;01mNone\u001b[39;00m):\n\u001b[32m---> \u001b[39m\u001b[32m12\u001b[39m     \u001b[38;5;28;43msuper\u001b[39;49m\u001b[43m(\u001b[49m\u001b[43m)\u001b[49m\u001b[43m.\u001b[49m\u001b[34;43m__init__\u001b[39;49m\u001b[43m(\u001b[49m\u001b[43mdevice\u001b[49m\u001b[43m=\u001b[49m\u001b[43mdevice\u001b[49m\u001b[43m,\u001b[49m\u001b[43m \u001b[49m\u001b[43mbatch_size\u001b[49m\u001b[43m=\u001b[49m\u001b[43mbatch_size\u001b[49m\u001b[43m)\u001b[49m\n\u001b[32m     14\u001b[39m     \u001b[38;5;66;03m# Define action and observation specs\u001b[39;00m\n\u001b[32m     15\u001b[39m     \u001b[38;5;28mself\u001b[39m.action_spec = DiscreteTensorSpec(n=\u001b[32m4\u001b[39m, shape=torch.Size([]), device=device)\n",
      "\u001b[36mFile \u001b[39m\u001b[32m~/Codes/Personal/myblog/docs/reinforcement_learning/code/.venv/lib/python3.13/site-packages/torchrl/envs/common.py:498\u001b[39m, in \u001b[36mEnvBase.__init__\u001b[39m\u001b[34m(self, device, batch_size, run_type_checks, allow_done_after_reset, spec_locked, auto_reset)\u001b[39m\n\u001b[32m    493\u001b[39m \u001b[38;5;28mself\u001b[39m.\u001b[34m__dict__\u001b[39m.setdefault(\u001b[33m\"\u001b[39m\u001b[33m_device\u001b[39m\u001b[33m\"\u001b[39m, \u001b[38;5;28;01mNone\u001b[39;00m)\n\u001b[32m    495\u001b[39m \u001b[38;5;28;01mif\u001b[39;00m batch_size \u001b[38;5;129;01mis\u001b[39;00m \u001b[38;5;129;01mnot\u001b[39;00m \u001b[38;5;28;01mNone\u001b[39;00m:\n\u001b[32m    496\u001b[39m     \u001b[38;5;66;03m# we want an error to be raised if we pass batch_size but\u001b[39;00m\n\u001b[32m    497\u001b[39m     \u001b[38;5;66;03m# it's already been set\u001b[39;00m\n\u001b[32m--> \u001b[39m\u001b[32m498\u001b[39m     batch_size = \u001b[38;5;28mself\u001b[39m.batch_size = \u001b[43mtorch\u001b[49m\u001b[43m.\u001b[49m\u001b[43mSize\u001b[49m\u001b[43m(\u001b[49m\u001b[43mbatch_size\u001b[49m\u001b[43m)\u001b[49m\n\u001b[32m    499\u001b[39m \u001b[38;5;28;01melse\u001b[39;00m:\n\u001b[32m    500\u001b[39m     batch_size = torch.Size(())\n",
      "\u001b[31mTypeError\u001b[39m: 'int' object is not iterable"
     ]
    }
   ],
   "source": [
    "env = GridWorldEnv(device=\"cpu\", batch_size=1)"
   ]
  },
  {
   "cell_type": "code",
   "execution_count": null,
   "id": "e348d8fb",
   "metadata": {},
   "outputs": [],
   "source": []
  }
 ],
 "metadata": {
  "kernelspec": {
   "display_name": ".venv",
   "language": "python",
   "name": "python3"
  },
  "language_info": {
   "codemirror_mode": {
    "name": "ipython",
    "version": 3
   },
   "file_extension": ".py",
   "mimetype": "text/x-python",
   "name": "python",
   "nbconvert_exporter": "python",
   "pygments_lexer": "ipython3",
   "version": "3.13.3"
  }
 },
 "nbformat": 4,
 "nbformat_minor": 5
}
